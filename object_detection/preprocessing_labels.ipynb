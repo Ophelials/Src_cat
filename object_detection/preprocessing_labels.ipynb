{
 "cells": [
  {
   "cell_type": "code",
   "execution_count": 7,
   "id": "a0f81dcd",
   "metadata": {},
   "outputs": [],
   "source": [
    "import os\n",
    "\n",
    "import json\n",
    "import shutil\n",
    "\n",
    "from PIL import Image\n",
    "from sklearn.model_selection import train_test_split"
   ]
  },
  {
   "cell_type": "markdown",
   "id": "648c695a",
   "metadata": {},
   "source": [
    "# Подготовка меток до требуемого YOLOv8 формата"
   ]
  },
  {
   "cell_type": "code",
   "execution_count": 126,
   "id": "ea5ec684",
   "metadata": {},
   "outputs": [],
   "source": [
    "os.makedirs('part', exist_ok=True)\n",
    "os.makedirs('full', exist_ok=True)\n",
    "\n",
    "part_folder = '/train_dataset_dataset/part/labels'\n",
    "full_folder = '/train_dataset_dataset/full/labels'\n",
    "\n",
    "part_output_folder = 'dataset/part/labels'\n",
    "full_output_folder = 'dataset/full/labels'"
   ]
  },
  {
   "cell_type": "markdown",
   "id": "7781d3f0",
   "metadata": {},
   "source": [
    "Для перевода меток парсятся исходные json файлы с метками и переводятся в txt-формат\n",
    "формата:\n",
    "\n",
    "label cx cy w h \n",
    "\n",
    "Где:\n",
    "    \n",
    "-label - метка класса;\n",
    "    \n",
    "-cx - центральная координата bounding_box по оси x;\n",
    "    \n",
    "-cy - центральная координата bounding_box по оси y;\n",
    "    \n",
    "-w - ширина bounding_box;\n",
    "    \n",
    "-h - высота bounding_box.\n",
    "    \n",
    "Все координаты представлены в относительном виде."
   ]
  },
  {
   "cell_type": "code",
   "execution_count": null,
   "id": "3142da4f",
   "metadata": {},
   "outputs": [],
   "source": [
    "def convert_and_save_to_txt(json_folder, output_folder, images_folder):\n",
    "    json_files = [f for f in os.listdir(json_folder) if f.endswith('.json')]\n",
    "    \n",
    "    for json_file in json_files:\n",
    "        with open(os.path.join(json_folder, json_file), 'r') as json_file:\n",
    "            data = json.load(json_file)\n",
    "            image_name = data[0]['image'].split('.')[0]\n",
    "            coordinates = data[0]['annotations'][0]['coordinates']\n",
    "            \n",
    "            image_path = os.path.join(images_folder, f'{image_name}.jpg')\n",
    "            with Image.open(image_path) as img:\n",
    "                img_width, img_height = img.size\n",
    "            x = coordinates['x']\n",
    "            y = coordinates['y']               \n",
    "            width = coordinates['width']\n",
    "            height = coordinates['height']\n",
    "            \n",
    "            x_rel = round(x / img_width, 6) #relative coordinates for yolo8 labels format\n",
    "            y_rel = round(y / img_height, 6)\n",
    "            width_rel = round(width / img_width, 6)\n",
    "            height_rel = round(height / img_height, 6)\n",
    "            \n",
    "            label = '0'\n",
    "            txt_data = f'{label} {x_rel} {y_rel} {width_rel} {height_rel}'\n",
    "            \n",
    "            with open(os.path.join(output_folder, f'{image_name}.txt'), 'w') as txt_file:\n",
    "                txt_file.write(txt_data)\n",
    "\n",
    "convert_and_save_to_txt(part_folder, part_output_folder, '/train_dataset_dataset/part/images')\n",
    "convert_and_save_to_txt(full_folder, full_output_folder, '/train_dataset_dataset/full/images')"
   ]
  },
  {
   "cell_type": "code",
   "execution_count": 127,
   "id": "6dcaaad3",
   "metadata": {},
   "outputs": [],
   "source": [
    "images_dir = '/yolo/dataset/null/images'\n",
    "labels_dir = '/yolo/dataset/null/labels'\n",
    "\n",
    "image_files = os.listdir(images_dir)\n",
    "\n",
    "for image_file in image_files:\n",
    "    filename_no_ext = os.path.splitext(image_file)[0]\n",
    "    label_path = os.path.join(labels_dir, f\"{filename_no_ext}.txt\")\n",
    "    \n",
    "    open(label_path, 'w').close()"
   ]
  },
  {
   "cell_type": "code",
   "execution_count": 129,
   "id": "a08252e9",
   "metadata": {},
   "outputs": [],
   "source": [
    "def move_files(source_folder, destination_folder, files):\n",
    "    os.makedirs(os.path.join(destination_folder, \"images\"), exist_ok=True)\n",
    "    os.makedirs(os.path.join(destination_folder, \"labels\"), exist_ok=True)\n",
    "    for file in files:\n",
    "        source_image_path = os.path.join(source_folder, 'images', file)\n",
    "        source_label_path = os.path.join(source_folder, \"labels\", file.replace(\".jpg\", \".txt\"))\n",
    "        destination_image_path = os.path.join(destination_folder, \"images\", file)\n",
    "        destination_label_path = os.path.join(destination_folder, \"labels\", file.replace(\".jpg\", \".txt\"))\n",
    "        shutil.move(source_image_path, destination_image_path)\n",
    "        shutil.move(source_label_path, destination_label_path)"
   ]
  },
  {
   "cell_type": "code",
   "execution_count": 130,
   "id": "c7eaa58c",
   "metadata": {},
   "outputs": [],
   "source": [
    "source_dir = '/yolo/dataset/without_part/train'\n",
    "val_dir = \"/yolo/dataset/without_part/val\"\n",
    "\n",
    "image_files = [f for f in os.listdir(source_dir + '/images') if f.endswith((\".jpg\"))]\n",
    "\n",
    "image_files_train, image_files_val = train_test_split(image_files, test_size=0.15, random_state=42)\n",
    "\n",
    "move_files(source_dir, val_dir, image_files_val)"
   ]
  },
  {
   "cell_type": "code",
   "execution_count": 131,
   "id": "aebfdf04",
   "metadata": {},
   "outputs": [],
   "source": [
    "source_dir = '/yolo/dataset/with_part/train'\n",
    "val_dir = \"/yolo/dataset/with_part/val\"\n",
    "\n",
    "image_files = [f for f in os.listdir(source_dir + '/images') if f.endswith((\".jpg\"))]\n",
    "\n",
    "image_files_train, image_files_val = train_test_split(image_files, test_size=0.15, random_state=42)\n",
    "\n",
    "move_files(source_dir, val_dir, image_files_val)"
   ]
  },
  {
   "cell_type": "code",
   "execution_count": null,
   "id": "e9604801",
   "metadata": {},
   "outputs": [],
   "source": []
  },
  {
   "cell_type": "code",
   "execution_count": null,
   "id": "2df512b8",
   "metadata": {},
   "outputs": [],
   "source": []
  },
  {
   "cell_type": "code",
   "execution_count": 128,
   "id": "c339d9fd",
   "metadata": {},
   "outputs": [],
   "source": []
  },
  {
   "cell_type": "code",
   "execution_count": null,
   "id": "76227716",
   "metadata": {},
   "outputs": [],
   "source": []
  }
 ],
 "metadata": {
  "kernelspec": {
   "display_name": "Python 3 (ipykernel)",
   "language": "python",
   "name": "python3"
  },
  "language_info": {
   "codemirror_mode": {
    "name": "ipython",
    "version": 3
   },
   "file_extension": ".py",
   "mimetype": "text/x-python",
   "name": "python",
   "nbconvert_exporter": "python",
   "pygments_lexer": "ipython3",
   "version": "3.10.11"
  }
 },
 "nbformat": 4,
 "nbformat_minor": 5
}
